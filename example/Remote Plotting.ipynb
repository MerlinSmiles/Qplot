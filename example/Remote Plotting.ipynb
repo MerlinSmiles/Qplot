{
 "cells": [
  {
   "cell_type": "code",
   "execution_count": 1,
   "metadata": {},
   "outputs": [],
   "source": [
    "%gui qt5\n",
    "\n",
    "import numpy as np\n",
    "\n",
    "import qcodes as qc\n",
    "from qplot import Plot\n"
   ]
  },
  {
   "cell_type": "code",
   "execution_count": 2,
   "metadata": {},
   "outputs": [],
   "source": [
    "p_measure = qc.ManualParameter(name='measured_val')\n",
    "p_measure2 = qc.ManualParameter(name='measured_val_2', initial_value=10)\n",
    "p_sweep = qc.StandardParameter(name='sweep_val', set_cmd=p_measure.set)\n",
    "p_sweep2 = qc.StandardParameter(name='sweep_val_2', set_cmd=p_measure2.set)"
   ]
  },
  {
   "cell_type": "code",
   "execution_count": 3,
   "metadata": {
    "scrolled": true
   },
   "outputs": [
    {
     "name": "stdout",
     "output_type": "stream",
     "text": [
      "python C:\\git\\Qplot\\qplot\\plot\\RemotePlotClient.py qcodes.plot.d0eeb3cc2e3d4108a20b37a5f60a62a1 8892 8784\n",
      "Started at 2018-10-24 10:33:25\n",
      "DataSet:\n",
      "   location = 'data/2018-10-24/#011_{name}_10-33-24'\n",
      "   <Type>   | <array_id>     | <array.name>   | <array.shape>\n",
      "   Setpoint | sweep_val_set  | sweep_val      | (21,)\n",
      "   Measured | measured_val   | measured_val   | (21,)\n",
      "   Measured | measured_val_2 | measured_val_2 | (21,)\n",
      "Finished at 2018-10-24 10:33:36\n"
     ]
    }
   ],
   "source": [
    "loop = qc.Loop(\n",
    "    p_sweep.sweep(0, 20, step=1), delay=0.5).each(\n",
    "        p_measure,\n",
    "        p_measure2)\n",
    "data = loop.get_data_set()\n",
    "\n",
    "pp = Plot()\n",
    "data.publisher = pp\n",
    "\n",
    "plot = pp.add(data.measured_val)\n",
    "\n",
    "loop.run();"
   ]
  },
  {
   "cell_type": "code",
   "execution_count": 6,
   "metadata": {},
   "outputs": [
    {
     "name": "stdout",
     "output_type": "stream",
     "text": [
      "python C:\\git\\Qplot\\qplot\\plot\\RemotePlotClient.py qcodes.plot.db016ad861084490b119d46562748ff8 8892 8772\n"
     ]
    }
   ],
   "source": [
    "loop = qc.Loop(\n",
    "    p_sweep.sweep(0, 20, step=1), delay=0.5).each(\n",
    "        p_measure,\n",
    "        p_measure2)\n",
    "data = loop.get_data_set()\n",
    "\n",
    "\n",
    "pp = Plot()\n",
    "data.publisher = pp\n",
    "\n",
    "plot = pp.add(data.measured_val, subplot=0)\n",
    "plot = pp.add(data.measured_val_2, subplot=0)\n",
    "plot = pp.add(data.measured_val, subplot=1)\n",
    "plot = pp.add(data.measured_val_2, subplot=2)\n",
    "\n",
    "# loop.run();"
   ]
  },
  {
   "cell_type": "code",
   "execution_count": 9,
   "metadata": {},
   "outputs": [],
   "source": [
    "pp.clear()\n",
    "plot = pp.add(data.measured_val, subplot=0)\n",
    "plot = pp.add(data.measured_val_2, subplot=0)\n",
    "plot = pp.add(data.measured_val, subplot=1)\n",
    "plot = pp.add(data.measured_val_2, subplot=2, position='bottom', relativeto=1)\n",
    "plot = pp.add(data.measured_val_2, subplot=3, position='bottom')\n"
   ]
  },
  {
   "cell_type": "code",
   "execution_count": 10,
   "metadata": {},
   "outputs": [
    {
     "name": "stdout",
     "output_type": "stream",
     "text": [
      "Started at 2018-10-24 10:34:30\n",
      "DataSet:\n",
      "   location = 'data/2018-10-24/#012_{name}_10-34-30'\n",
      "   <Type>   | <array_id>      | <array.name> | <array.shape>\n",
      "   Setpoint | sweep_val_set   | sweep_val    | (21,)\n",
      "   Setpoint | sweep_val_2_set | sweep_val_2  | (21, 11)\n",
      "   Measured | measured_val    | measured_val | (21, 11)\n",
      "Finished at 2018-10-24 10:35:02\n"
     ]
    }
   ],
   "source": [
    "loop = qc.Loop(\n",
    "    p_sweep.sweep(0, 20, step=1), delay=0.5).loop(\n",
    "        p_sweep2.sweep(0, 10, step=1), delay=0.1).each(\n",
    "            p_measure)\n",
    "data = loop.get_data_set()\n",
    "\n",
    "pp.clear()\n",
    "data.publisher = pp\n",
    "\n",
    "plot = pp.add(data.measured_val)\n",
    "\n",
    "loop.run();"
   ]
  },
  {
   "cell_type": "code",
   "execution_count": null,
   "metadata": {},
   "outputs": [],
   "source": []
  }
 ],
 "metadata": {
  "kernelspec": {
   "display_name": "Python 3",
   "language": "python",
   "name": "python3"
  },
  "language_info": {
   "codemirror_mode": {
    "name": "ipython",
    "version": 3
   },
   "file_extension": ".py",
   "mimetype": "text/x-python",
   "name": "python",
   "nbconvert_exporter": "python",
   "pygments_lexer": "ipython3",
   "version": "3.7.0"
  },
  "toc": {
   "hide_others": true,
   "nav_menu": {},
   "number_sections": true,
   "sideBar": true,
   "skip_h1_title": false,
   "toc_position": {},
   "toc_section_display": "block",
   "toc_window_display": false
  }
 },
 "nbformat": 4,
 "nbformat_minor": 2
}
